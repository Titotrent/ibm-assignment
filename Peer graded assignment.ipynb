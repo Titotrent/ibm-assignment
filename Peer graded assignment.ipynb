{
 "cells": [
  {
   "cell_type": "markdown",
   "metadata": {
    "collapsed": true
   },
   "source": [
    "# My Jupyter Notebook on Watson Studio"
   ]
  },
  {
   "cell_type": "markdown",
   "metadata": {},
   "source": [
    "**My name is Trent Tito. I aspire to become an actuary with a data science background**"
   ]
  },
  {
   "cell_type": "markdown",
   "metadata": {},
   "source": [
    "*Data science interests me because it equips me with skills that enable me to analyse consumer behavior and  make strategic decisions based on data*"
   ]
  },
  {
   "cell_type": "markdown",
   "metadata": {},
   "source": [
    "### the code asks the user for his or her favourite colour"
   ]
  },
  {
   "cell_type": "code",
   "execution_count": 1,
   "metadata": {},
   "outputs": [
    {
     "name": "stdout",
     "output_type": "stream",
     "text": [
      "What is your favourite colour: orange\n",
      "orange\n"
     ]
    }
   ],
   "source": [
    "colour=input('What is your favourite colour: ')\n",
    "print(colour)"
   ]
  },
  {
   "cell_type": "markdown",
   "metadata": {},
   "source": [
    "|Name|  |Occupation|\n",
    "|--- |  |---       |\n",
    "|Ben |  |teacher   |\n",
    "|Mary|  |accountant|\n",
    "\n",
    "[please click here](https://www.google.com)\n",
    "\n",
    "I don't like ~~avacados~~ guacamole.\n",
    "\n"
   ]
  }
 ],
 "metadata": {
  "kernelspec": {
   "display_name": "Python 3.9",
   "language": "python",
   "name": "python3"
  },
  "language_info": {
   "codemirror_mode": {
    "name": "ipython",
    "version": 3
   },
   "file_extension": ".py",
   "mimetype": "text/x-python",
   "name": "python",
   "nbconvert_exporter": "python",
   "pygments_lexer": "ipython3",
   "version": "3.9.12"
  }
 },
 "nbformat": 4,
 "nbformat_minor": 1
}
